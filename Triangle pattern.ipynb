{
 "cells": [
  {
   "cell_type": "code",
   "execution_count": 1,
   "id": "927a6b69",
   "metadata": {},
   "outputs": [
    {
     "name": "stdout",
     "output_type": "stream",
     "text": [
      "Enter the number of rows: 4\n",
      "\n",
      "Lower Triangular:\n",
      "*\n",
      "**\n",
      "***\n",
      "****\n",
      "\n",
      "Upper Triangular:\n",
      "****\n",
      "***\n",
      "**\n",
      "*\n",
      "\n",
      "Pyramid:\n",
      "   *\n",
      "  ***\n",
      " *****\n",
      "*******\n"
     ]
    }
   ],
   "source": [
    "def lower_triangular(n):\n",
    "    for i in range(1, n + 1):\n",
    "        print('*' * i)\n",
    "\n",
    "def upper_triangular(n):\n",
    "    for i in range(n, 0, -1):\n",
    "        print('*' * i)\n",
    "\n",
    "def pyramid(n):\n",
    "    for i in range(1, n + 1):\n",
    "        print(' ' * (n - i) + '*' * (2 * i - 1))\n",
    "\n",
    "def main():\n",
    "    n = int(input(\"Enter the number of rows: \"))\n",
    "\n",
    "    print(\"\\nLower Triangular:\")\n",
    "    lower_triangular(n)\n",
    "\n",
    "    print(\"\\nUpper Triangular:\")\n",
    "    upper_triangular(n)\n",
    "\n",
    "    print(\"\\nPyramid:\")\n",
    "    pyramid(n)\n",
    "\n",
    "if __name__ == \"__main__\":\n",
    "    main()\n"
   ]
  },
  {
   "cell_type": "code",
   "execution_count": null,
   "id": "02ab1799",
   "metadata": {},
   "outputs": [],
   "source": []
  }
 ],
 "metadata": {
  "kernelspec": {
   "display_name": "Python 3 (ipykernel)",
   "language": "python",
   "name": "python3"
  },
  "language_info": {
   "codemirror_mode": {
    "name": "ipython",
    "version": 3
   },
   "file_extension": ".py",
   "mimetype": "text/x-python",
   "name": "python",
   "nbconvert_exporter": "python",
   "pygments_lexer": "ipython3",
   "version": "3.11.5"
  }
 },
 "nbformat": 4,
 "nbformat_minor": 5
}
